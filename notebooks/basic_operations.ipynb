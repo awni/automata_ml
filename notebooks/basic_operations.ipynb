{
 "cells": [
  {
   "cell_type": "markdown",
   "id": "c7249708",
   "metadata": {},
   "source": [
    "# Basic Operations"
   ]
  },
  {
   "cell_type": "code",
   "execution_count": 1,
   "id": "80c75463",
   "metadata": {},
   "outputs": [
    {
     "data": {
      "text/html": [
       "\n",
       "        <style>\n",
       "             .container { width:800px !important; }\n",
       "             .figure {display:table; margin:auto;}\n",
       "             .img {float: left; margin: 10px; min-width: 300px;}\n",
       "             .caption {display:table-caption;caption-side:bottom;text-align:justify;color: rgba(0,0,0,0.6);}\n",
       "             td { background: white;}\n",
       "            .table_caption {\n",
       "                font-size:14px;\n",
       "                float: left;\n",
       "                text-align: justify;\n",
       "                color: rgba(0,0,0,0.6);\n",
       "            }\n",
       "        </style>\n",
       "        "
      ],
      "text/plain": [
       "<IPython.core.display.HTML object>"
      ]
     },
     "metadata": {},
     "output_type": "display_data"
    }
   ],
   "source": [
    "import gtn\n",
    "import nb_utils\n",
    "nb_utils.init()"
   ]
  },
  {
   "cell_type": "markdown",
   "id": "c2b7748f",
   "metadata": {},
   "source": [
    "$\\newcommand{\\vx}{{\\bf x}}\n",
    "\\newcommand{\\vy}{{\\bf y}}\n",
    "\\newcommand{\\gA}{\\mathcal{A}}\n",
    "\\newcommand{\\gT}{\\mathcal{T}}\n",
    "\\newcommand{\\gU}{\\mathcal{U}}\n",
    "\\DeclareMathOperator*{\\LSE}{\\textrm{LSE}}$An operation on a transducer (or acceptor) takes one or more transducers as input and outputs a transducer. You can think of these operations as functions on graphs. As a reminder, I'll use uppercase script letters to represent graphs, so $\\gA$ for example can represent a graph. Functions will be denoted by lower case variables. So $f(\\gA)$ is a function which takes as input a single graph and outputs a graph.\n",
    "\n",
    "## Closure\n",
    "\n",
    "The closure, sometimes called the Kleene star, is a unary function (takes a single input) which can operate on either an acceptor or transducer. If the sequence $\\vx$ is accepted by $\\gA$, then zero or more copies of $\\vx$ are accepted by the closure of $\\gA$. More formally, if the language of an acceptor is $\\mathcal{L}(\\gA)$, then the language of the closure of $\\gA$ is $\\{\\vx^n \\mid \\vx \\in \\mathcal{L}(\\gA),\\;\\; n = 0, 1, \\ldots, \\}$. The notation $\\vx^n$ means $\\vx$ concatenated $n$ times. So $\\vx^2$ is $\\vx \\vx$ and $\\vx^0$ is the empty string. Usually the closure of an acceptor is denoted by $^*$, as in $\\gA^*$. This is the same notation used in regular expressions."
   ]
  },
  {
   "cell_type": "code",
   "execution_count": 2,
   "id": "0d2deb8a",
   "metadata": {},
   "outputs": [],
   "source": [
    "# Define the mapping from integer ids to arc symbol labels:\n",
    "symbols = {0: 'a', 1: 'b', 2: 'c'}\n",
    "\n",
    "fsa = gtn.Graph()\n",
    "fsa.add_node(start=True)\n",
    "fsa.add_node()\n",
    "fsa.add_node()\n",
    "fsa.add_node(accept=True)\n",
    "fsa.add_arc(src_node=0, dst_node=1, label=0)\n",
    "fsa.add_arc(src_node=1, dst_node=2, label=1)\n",
    "fsa.add_arc(src_node=2, dst_node=3, label=0)\n",
    "\n",
    "gtn.draw(fsa, \"figures/fsa_pre_closure.svg\", isymbols=symbols)"
   ]
  },
  {
   "cell_type": "markdown",
   "id": "f161f3d8",
   "metadata": {},
   "source": [
    "The closure of a graph is easy to construct with the use of $\\epsilon$ transitions. The language of the graph below is the string $aba$. \n",
    "\n",
    "<div class=\"figure\">\n",
    "    <a name=\"fsa_pre_closure\"></a>\n",
    "  <div class=\"img\">\n",
    "    <img src=\"figures/fsa_pre_closure.svg\"/>\n",
    "  </div>\n",
    "  <div class=\"caption\" markdown=\"span\">\n",
    "      An example of a simple acceptor with language $\\{aba\\}$, in other words $\\mathcal{L}(\\gA) = \\{aba\\}$.\n",
    "  </div>\n",
    "</div>\n",
    "\n",
    "The closure of the graph needs to accept an arbitrary number of copies of $aba$ including the empty string. To accept the empty string we make the start state an accept state as well. To accept one or more copies of $aba$ we simply wire up the old accept states to the new start state with $\\epsilon$ transitions."
   ]
  },
  {
   "cell_type": "code",
   "execution_count": 3,
   "id": "1ddd3133",
   "metadata": {},
   "outputs": [],
   "source": [
    "# Recreate the old graph but without any start states:\n",
    "fsa = gtn.Graph()\n",
    "old_start = fsa.add_node()\n",
    "fsa.add_node()\n",
    "fsa.add_node()\n",
    "accept = fsa.add_node(accept=True)\n",
    "fsa.add_arc(src_node=0, dst_node=1, label=0)\n",
    "fsa.add_arc(src_node=1, dst_node=2, label=1)\n",
    "fsa.add_arc(src_node=2, dst_node=3, label=0)\n",
    "\n",
    "# Add a new start state which is also an accept state\n",
    "start = fsa.add_node(start=True, accept=True)\n",
    "\n",
    "# Connect the new start state to the old start states with an ϵ transition:\n",
    "fsa.add_arc(src_node=start, dst_node=old_start, label=gtn.epsilon)\n",
    "\n",
    "# Connect the accept states to the new start state with an ϵ transition:\n",
    "fsa.add_arc(src_node=accept, dst_node=start, label=gtn.epsilon)\n",
    "\n",
    "gtn.draw(fsa, \"figures/fsa_closure.svg\", isymbols=symbols)"
   ]
  },
  {
   "cell_type": "markdown",
   "id": "ea426415",
   "metadata": {},
   "source": [
    "The closure of the graph is shown below.\n",
    "\n",
    "<div class=\"figure\">\n",
    "    <a name=\"fsa_pre_closure\"></a>\n",
    "  <div class=\"img\">\n",
    "    <img src=\"figures/fsa_closure.svg\"/>\n",
    "  </div>\n",
    "  <div class=\"caption\" markdown=\"span\">\n",
    "      The closure $\\gA^*$ of the graph above. The language of the graph is $\\{\\epsilon, aba, abaaba, \\ldots\\}$.\n",
    "  </div>\n",
    "</div>\n",
    "\n",
    "---\n",
    "### Example\n",
    "\n",
    "You might notice that state $4$ in the above graph is not necessary. Consider an alternate construction for computing the closure of a graph. We could have made the state $0$ into an accept state and connected state $3$ to state $0$ with an $\\epsilon$ transition, as in the graph below."
   ]
  },
  {
   "cell_type": "code",
   "execution_count": null,
   "id": "9e05e9a0",
   "metadata": {},
   "outputs": [],
   "source": [
    "fsa = gtn.Graph()\n",
    "\n",
    "# Make the start state also an accept state:\n",
    "start = fsa.add_node(start=True, accept=True)\n",
    "fsa.add_node()\n",
    "fsa.add_node()\n",
    "accept = fsa.add_node(accept=True)\n",
    "fsa.add_arc(src_node=0, dst_node=1, label=0)\n",
    "fsa.add_arc(src_node=1, dst_node=2, label=1)\n",
    "fsa.add_arc(src_node=2, dst_node=3, label=0)\n",
    "\n",
    "# Connect the accept states to the start state with an ϵ transition:\n",
    "fsa.add_arc(src_node=accept, dst_node=start, label=gtn.epsilon)\n",
    "\n",
    "gtn.draw(fsa, \"figures/fsa_closure_2.svg\", isymbols=symbols)"
   ]
  },
  {
   "cell_type": "markdown",
   "id": "4b07c7bc",
   "metadata": {},
   "source": [
    "<div class=\"figure\">\n",
    "    <a name=\"fsa_pre_closure\"></a>\n",
    "  <div class=\"img\">\n",
    "    <img src=\"figures/fsa_closure_2.svg\"/>\n",
    "  </div>\n",
    "  <div class=\"caption\" markdown=\"span\">\n",
    "      The closure $\\gA^*$ of the graph above using an alternate, simpler construction which connects the accept state to the original start state with an $\\epsilon$ transition. This construction does not work for every case.\n",
    "  </div>\n",
    "</div>\n",
    "\n",
    "For the [graph above](#fsa_pre_closure), this alternate construction works and requires fewer states and arcs. In the general case, this construction turns every start state into an accept state instead of adding a new start state. Give an example where this doesn't work? In other words, give an example where the graph from this modified construction is not the correct closure of the original graph."
   ]
  },
  {
   "cell_type": "code",
   "execution_count": null,
   "id": "03dca44c",
   "metadata": {},
   "outputs": [],
   "source": [
    "fsa = gtn.Graph()\n",
    "fsa.add_node(start=True)\n",
    "fsa.add_node(accept=True)\n",
    "fsa.add_arc(src_node=0, dst_node=0, label=0)\n",
    "fsa.add_arc(src_node=0, dst_node=1, label=1)\n",
    "\n",
    "gtn.draw(fsa, \"figures/fsa_pre_closure_wrong.svg\", isymbols=symbols)"
   ]
  },
  {
   "cell_type": "markdown",
   "id": "24351dcc",
   "metadata": {},
   "source": [
    "An example for which the alternate construction does not work is shown in the graph below. The language of the graph is $a^nb$ (any number of $a$'s followed by a $b$) and the closure is $(a^nb)^*$, or any sequence that ends with $b$.\n",
    "\n",
    "<div class=\"figure\">\n",
    "    <a name=\"fsa_pre_closure\"></a>\n",
    "  <div class=\"img\">\n",
    "    <img src=\"figures/fsa_pre_closure_wrong.svg\"/>\n",
    "  </div>\n",
    "  <div class=\"caption\" markdown=\"span\">\n",
    "      An acceptor for which the alternate construction for the closure does not yield the correct result.\n",
    "  </div>\n",
    "</div>"
   ]
  },
  {
   "cell_type": "code",
   "execution_count": null,
   "id": "c979a6b6",
   "metadata": {},
   "outputs": [],
   "source": [
    "# The modified (and incorrect) construction for the closure:\n",
    "fsa = gtn.Graph()\n",
    "fsa.add_node(start=True, accept=True)\n",
    "fsa.add_node(accept=True)\n",
    "fsa.add_arc(src_node=0, dst_node=0, label=0)\n",
    "fsa.add_arc(src_node=0, dst_node=1, label=1)\n",
    "fsa.add_arc(src_node=1, dst_node=0, label=gtn.epsilon)\n",
    "\n",
    "gtn.draw(fsa, \"figures/fsa_closure_wrong.svg\", isymbols=symbols)"
   ]
  },
  {
   "cell_type": "markdown",
   "id": "460ae383",
   "metadata": {},
   "source": [
    "If we follow the modified construction for the closure, as in the graph below, then the language would incorrectly include sequences that do not end with $b$ such as $a^*$.\n",
    "\n",
    "<div class=\"figure\">\n",
    "    <a name=\"fsa_pre_closure\"></a>\n",
    "  <div class=\"img\">\n",
    "    <img src=\"figures/fsa_closure_wrong.svg\"/>\n",
    "  </div>\n",
    "  <div class=\"caption\" markdown=\"span\">\n",
    "    The alternate construction which incorrectly computes the closure of the graph above.\n",
    "  </div>\n",
    "</div>"
   ]
  },
  {
   "cell_type": "code",
   "execution_count": null,
   "id": "16293a13",
   "metadata": {},
   "outputs": [],
   "source": [
    "# The correct construction for the closure\n",
    "fsa = gtn.Graph()\n",
    "fsa.add_node()\n",
    "fsa.add_node(accept=True)\n",
    "fsa.add_node(start=True, accept=True)\n",
    "fsa.add_arc(src_node=0, dst_node=0, label=0)\n",
    "fsa.add_arc(src_node=0, dst_node=1, label=1)\n",
    "fsa.add_arc(src_node=2, dst_node=0, label=gtn.epsilon)\n",
    "fsa.add_arc(src_node=1, dst_node=2, label=gtn.epsilon)\n",
    "\n",
    "gtn.draw(fsa, \"figures/fsa_closure_right.svg\", isymbols=symbols)"
   ]
  },
  {
   "cell_type": "markdown",
   "id": "fe98ffd6",
   "metadata": {},
   "source": [
    "The graph following the correct construction of the closure is shown below.\n",
    "\n",
    "<div class=\"figure\">\n",
    "    <a name=\"fsa_pre_closure\"></a>\n",
    "  <div class=\"img\">\n",
    "    <img src=\"figures/fsa_closure_right.svg\"/>\n",
    "  </div>\n",
    "  <div class=\"caption\" markdown=\"span\">\n",
    "    The correct closure of the graph above which has the language $(a^nb)^*$, which is any sequence which ends with $b$.\n",
    "  </div>\n",
    "</div>\n",
    "\n",
    "---\n",
    "\n",
    "## Union\n",
    "\n",
    "The union takes as input two or more graphs and produces a new graph. The language of the resultant graph is the union of the languages of the input graphs. More formally let $\\gA_1, \\ldots, \\gA_n$ be $n$ graphs. The language of the union graph is given by $\\{ x \\mid x \\in \\gA_i \\textrm{ for some } i = 1, \\ldots, n \\}$. I'll occasionally use the $+$ sign to denote the union, as in $\\gU = \\gA_1 + \\gA_2$."
   ]
  },
  {
   "cell_type": "code",
   "execution_count": 4,
   "id": "38314ca2",
   "metadata": {},
   "outputs": [],
   "source": [
    "# A graph which recognizes \"aba*\"\n",
    "g1 = gtn.Graph()\n",
    "g1.add_node(start=True)\n",
    "g1.add_node()\n",
    "g1.add_node(accept=True)\n",
    "g1.add_arc(src_node=0, dst_node=1, label=0)\n",
    "g1.add_arc(src_node=1, dst_node=2, label=1)\n",
    "g1.add_arc(src_node=2, dst_node=2, label=0)\n",
    "\n",
    "# A graph which recognizes \"ba\"\n",
    "g2 = gtn.Graph()\n",
    "g2.add_node(start=True)\n",
    "g2.add_node()\n",
    "g2.add_node(accept=True)\n",
    "g2.add_arc(src_node=0, dst_node=1, label=1)\n",
    "g2.add_arc(src_node=1, dst_node=2, label=0)\n",
    "\n",
    "# A graph which recognizes \"ac\"\n",
    "g3 = gtn.Graph()\n",
    "g3.add_node(start=True)\n",
    "g3.add_node()\n",
    "g3.add_node(accept=True)\n",
    "g3.add_arc(src_node=0, dst_node=1, label=0)\n",
    "g3.add_arc(src_node=1, dst_node=2, label=2)\n",
    "\n",
    "gtn.draw(g1, \"figures/union_1.svg\", isymbols=symbols)\n",
    "gtn.draw(g2, \"figures/union_2.svg\", isymbols=symbols)\n",
    "gtn.draw(g3, \"figures/union_3.svg\", isymbols=symbols)"
   ]
  },
  {
   "cell_type": "markdown",
   "id": "01ed5cd6",
   "metadata": {},
   "source": [
    "Since we let a graph have multiple start states and multiple accept states, the union is  easy to construct. A state in the union graph is a start state if it was a start state in one of the original graphs. A state in the union graph is an accept state if it was an accept state in one of the original graphs.\n",
    "\n",
    "Consider the three graphs below with languages $\\{ab, aba, abaa, \\ldots\\}$, $\\{ba\\}$, and $\\{ac\\}$ respectively.\n",
    "\n",
    "<div class=\"figure\">\n",
    "  <div class=\"img\" style=\"min-width:180px;width:195px;\">\n",
    "    <img src=\"figures/union_1.svg\"/>\n",
    "  </div>\n",
    "  <div class=\"img\" style=\"padding-top:29px;min-width:180px;width:195px;\">\n",
    "    <img src=\"figures/union_2.svg\"/> \n",
    "  </div>\n",
    "  <div class=\"img\" style=\"padding-top:29px;min-width:180px;width:195px;\">\n",
    "    <img src=\"figures/union_3.svg\"/> \n",
    "  </div>\n",
    "  <div class=\"caption\" markdown=\"span\" style=\"text-align:center;\">\n",
    "    Three acceptors with languages $\\{ab, aba, abaa, \\ldots\\}$, $\\{ba\\}$, and $\\{ac\\}$ from left to right, respectively.\n",
    "  </div>\n",
    "</div>"
   ]
  },
  {
   "cell_type": "code",
   "execution_count": 6,
   "id": "af258d06",
   "metadata": {},
   "outputs": [],
   "source": [
    "g = gtn.union([g1, g2, g3])\n",
    "gtn.draw(g, \"figures/union.svg\", isymbols=symbols)"
   ]
  },
  {
   "cell_type": "markdown",
   "id": "01d6ae45",
   "metadata": {},
   "source": [
    "Notice in the union graph below the only visual distinction from the individual graphs is that the states are numbered consecutively from $0$ to $8$ indicating a single graph with nine states instead of three individual graphs. The language of the union graph below is $\\{ab, aba, abaa, \\ldots\\} \\cup \\{ba\\} \\cup \\{ac\\}$.\n",
    "<div class=\"figure\">\n",
    "  <div class=\"img\">\n",
    "    <img src=\"figures/union.svg\"/> \n",
    "    </div>\n",
    "      <div class=\"caption\" markdown=\"span\">\n",
    "    The union of the three acceptors above with language $\\{ab, aba, abaa, \\ldots\\} \\cup \\{ba\\} \\cup \\{ac\\}$.\n",
    "    </div>\n",
    "</div>\n",
    "\n",
    "## Concatenate\n",
    "\n",
    "Like union, concatenate produces a new graph given two or more graphs as input. The language of the concatenated graph is the set of strings which can be formed by any concatenation of strings from the individual graph. Concatenate is not commutative, the order of the input graphs matters. More formally the language of the concatenated graph is given by $\\{\\vx_1 \\ldots \\vx_n \\mid \\vx_1 \\in \\mathcal{L}(\\gA_1), \\ldots, \\vx_n \\in \\mathcal{L}(\\gA_n)\\}$. Occasionally, I will denote concatenation by placing the graphs side-by-side. So $\\gA_1 \\gA_2$ represents the concatenation of $\\gA_1$ and $\\gA_2$."
   ]
  },
  {
   "cell_type": "code",
   "execution_count": 7,
   "id": "7a4bc3bf",
   "metadata": {},
   "outputs": [],
   "source": [
    "# The graph which recognizes \"ba\"\n",
    "g1 = gtn.Graph()\n",
    "g1.add_node(start=True)\n",
    "g1.add_node()\n",
    "g1.add_node(accept=True)\n",
    "g1.add_arc(src_node=0, dst_node=1, label=1)\n",
    "g1.add_arc(src_node=1, dst_node=2, label=0)\n",
    "\n",
    "# The graph which recognizes \"ac\" and \"bc\"\n",
    "g2 = gtn.Graph()\n",
    "g2.add_node(start=True)\n",
    "g2.add_node()\n",
    "g2.add_node()\n",
    "g2.add_node(accept=True)\n",
    "g2.add_arc(src_node=0, dst_node=1, label=0)\n",
    "g2.add_arc(src_node=1, dst_node=3, label=2)\n",
    "g2.add_arc(src_node=0, dst_node=2, label=1)\n",
    "g2.add_arc(src_node=2, dst_node=3, label=2)\n",
    "\n",
    "gtn.draw(g1, \"figures/concat_1.svg\", isymbols=symbols)\n",
    "gtn.draw(g2, \"figures/concat_2.svg\", isymbols=symbols)"
   ]
  },
  {
   "cell_type": "markdown",
   "id": "e7551a27",
   "metadata": {},
   "source": [
    "The concatenated graph can be constructed from the original input graphs by connecting the accept states of one graph to the start states of the next. Assume we are concatenating $\\gA_1, \\ldots, \\gA_n$. The start states of the concatenated graph are the start states of the first graph, $\\gA_1$. The accept states of the concatenated graph are the accept states of the last graph, $\\gA_n$. For any two graph $\\gA_i$ and $\\gA_{i+1}$, we connect each accept state of $\\gA_i$ to each start state of $\\gA_{i+1}$ with an $\\epsilon$ transition.\n",
    "\n",
    "<div class=\"figure\">\n",
    "  <div class=\"img\" style=\"padding-top:34px;\">\n",
    "    <img src=\"figures/concat_1.svg\"/>\n",
    "  </div>\n",
    "  <div class=\"img\">\n",
    "    <img src=\"figures/concat_2.svg\"/> \n",
    "  </div>\n",
    "  <div class=\"caption\" markdown=\"span\" style=\"text-align:center;\">\n",
    "    The acceptor on left has language $\\{ba\\}$ and the acceptor on the right has language $\\{ac, bc\\}$.\n",
    "  </div>\n",
    "</div>\n",
    "\n",
    "As an example, consider the two graphs above."
   ]
  },
  {
   "cell_type": "code",
   "execution_count": 8,
   "id": "662f1341",
   "metadata": {},
   "outputs": [],
   "source": [
    "g = gtn.concat([g1, g2])\n",
    "gtn.draw(g, \"figures/concat.svg\", isymbols=symbols)"
   ]
  },
  {
   "cell_type": "markdown",
   "id": "1556d6d0",
   "metadata": {},
   "source": [
    "The concatenated graph is below and has the language $\\{baac, babc\\}$.\n",
    "\n",
    "<div class=\"figure\">\n",
    "  <div class=\"img\">\n",
    "    <img src=\"figures/concat.svg\"/> \n",
    "  </div>\n",
    "  <div class=\"caption\" markdown=\"span\" style=\"text-align:center;\">\n",
    "    The graph is the concatenation of the two graphs above and has the language $\\{baac, babc\\}$.\n",
    "  </div>\n",
    "</div>\n",
    "\n",
    "---\n",
    "\n",
    "### Example\n",
    "\n",
    "What is the identity graph for the concatenation function? The identity in a binary operation is the value which when used in the operation leaves the second input unchanged. In multiplication this would be $1$ since $c * 1 = c$ for any real value $c$.\n",
    "\n",
    "What is the equivalent of the annihilator graph in the concatenation function? The annihilator in a binary operation is the value such that the operation with the annihilator always returns the annihilator. For multiplication $0$ is the annihilator since $c *0 = 0$ for any real value $c$.\n",
    "\n",
    "The graph which accepts the empty string is the identity. The graph which does not accept any strings is the annihilator. See the figures below for an example of these two graphs."
   ]
  },
  {
   "cell_type": "code",
   "execution_count": 9,
   "id": "7cc4dd7f",
   "metadata": {},
   "outputs": [],
   "source": [
    "# The identity graph which accepts the empty string:\n",
    "fsa = gtn.Graph()\n",
    "fsa.add_node(start=True, accept=True)\n",
    "gtn.draw(fsa, \"figures/concat_identity.svg\", isymbols=symbols)\n",
    "\n",
    "# The annihilator graph which does not accept any strings:\n",
    "fsa = gtn.Graph()\n",
    "fsa.add_node(start=True, accept=False)\n",
    "gtn.draw(fsa, \"figures/concat_annihilator.svg\", isymbols=symbols)"
   ]
  },
  {
   "cell_type": "markdown",
   "id": "812c5984",
   "metadata": {},
   "source": [
    "<div class=\"figure\">\n",
    "  <div class=\"img\" style=\"width:200px;min-width:200px;\">\n",
    "    <img src=\"figures/concat_identity.svg\"/> \n",
    "  </div>\n",
    "  <div class=\"img\" style=\"width:200px;min-width:200px;\">\n",
    "    <img src=\"figures/concat_annihilator.svg\"/> \n",
    "  </div>\n",
    "  <div class=\"caption\" markdown=\"span\">\n",
    "    The identity (left) and the annihilator (right) for the concatenate operation. The language of the identity graph is the empty string $\\{\\epsilon\\}$. The language of the annihilator graph is the empty set $\\{\\}$.\n",
    "  </div>\n",
    "</div>\n",
    "\n",
    "The identity graph is a single node which is both a start and accept state. The language of the identity graph is the empty string. The annihilator graph is a single non accepting state. The language of the annihilator graph is the empty set. Note the subtle distinction between the language that contains the empty string and the language that is the empty set. The former can be written as $\\{\\epsilon\\}$ whereas the latter is $\\{\\}$ (also commonly denoted by $\\varnothing$).\n",
    "\n",
    "---\n",
    "\n",
    "### Example\n",
    "\n",
    "Construct the concatenation of the two graphs below."
   ]
  },
  {
   "cell_type": "code",
   "execution_count": 10,
   "id": "359b2244",
   "metadata": {},
   "outputs": [],
   "source": [
    "g1 = gtn.Graph()\n",
    "g1.add_node(start=True)\n",
    "g1.add_node()\n",
    "g1.add_node(accept=True)\n",
    "g1.add_node(accept=True)\n",
    "g1.add_arc(src_node=0, dst_node=1, label=1)\n",
    "g1.add_arc(src_node=1, dst_node=2, label=0)\n",
    "g1.add_arc(src_node=1, dst_node=3, label=2)\n",
    "\n",
    "g2 = gtn.Graph()\n",
    "g2.add_node(start=True)\n",
    "g2.add_node(start=True)\n",
    "g2.add_node(accept=True)\n",
    "g2.add_arc(src_node=0, dst_node=2, label=0)\n",
    "g2.add_arc(src_node=1, dst_node=2, label=2)\n",
    "\n",
    "gtn.draw(g1, \"figures/concat_example_1.svg\", isymbols=symbols)\n",
    "gtn.draw(g2, \"figures/concat_example_2.svg\", isymbols=symbols)"
   ]
  },
  {
   "cell_type": "markdown",
   "id": "9840ddb8",
   "metadata": {},
   "source": [
    "<div class=\"figure\">\n",
    "  <div class=\"img\">\n",
    "    <img src=\"figures/concat_example_1.svg\"/> \n",
    "  </div>\n",
    "  <div class=\"img\">\n",
    "    <img src=\"figures/concat_example_2.svg\" style=\"padding-top:10px;\"/> \n",
    "  </div>\n",
    "  <div class=\"caption\" markdown=\"span\">\n",
    "    The acceptor on the right has the language $\\{ba, bc\\}$, the acceptor on the left has the language $\\{a, c\\}$.\n",
    "  </div>\n",
    "</div>"
   ]
  },
  {
   "cell_type": "code",
   "execution_count": 11,
   "id": "da3ec314",
   "metadata": {},
   "outputs": [],
   "source": [
    "gtn.draw(gtn.concat([g1, g2]), \"figures/concat_example.svg\", isymbols=symbols)"
   ]
  },
  {
   "cell_type": "markdown",
   "id": "c950cc38",
   "metadata": {},
   "source": [
    "The concatenated graph is shown below.\n",
    "\n",
    "<div class=\"figure\">\n",
    "  <div class=\"img\">\n",
    "    <img src=\"figures/concat_example.svg\"/> \n",
    "  </div>\n",
    "  <div class=\"caption\" markdown=\"span\">\n",
    "    The concatenation of the two graphs above has the language $\\{baa, bac, bca, bcc\\}$.\n",
    "  </div>\n",
    "</div>\n",
    "\n",
    "---\n",
    "\n",
    "### Example\n",
    "\n",
    "Suppose we have a list of graphs to concatenate $\\gA_1, \\ldots, \\gA_n$ where the $i$-th graph has $s_i$ start states and $a_i$ accept states. How many new arcs will the concatenated graph require?\n",
    "\n",
    "For each consecutive pair of graphs $\\gA_i$ and $\\gA_{i+1}$, we need to add $a_i * s_{i+1}$ connecting arcs in the concatenated graph. So the total number of additional arcs is:\n",
    "\n",
    "$$\\sum_{i=1}^{n-1} a_i * s_{i+1}$$.\n",
    "\n",
    "---\n",
    "\n",
    "## Summary\n",
    "\n",
    "We've seen three basic operations so far:\n",
    "\n",
    "- **Closure:** The closed graph accepts any string in the input graph repeated zero or more times. The closure of a graph $\\gA$ is denoted $\\gA^*$.\n",
    "\n",
    "- **Union:** The union graph accepts any string from any of the input graphs. The union of two graphs $\\gA_1$ and $\\gA_2$ is denoted $\\gA_1 + \\gA_2$.\n",
    "\n",
    "- **Concatenate:** The concatenated graph accepts any string which can be formed by concatenating strings (respecting order) from the input graphs. The concatenation of two graphs $\\gA_1$ and $\\gA_2$ is denoted $\\gA_1\\gA_2$.\n",
    "\n",
    "---\n",
    "\n",
    "### Example\n",
    "\n",
    "Assume you are given the following individual graphs $\\gA_a$, $\\gA_b$, and $\\gA_c$, which recognize $a$, $b$, and $c$ respectively.  Using only closure, union, and concatenate, construct the graph which recognizes any number of repeats of the strings $aa$, $bb$, and $cc$. For example $aabb$ and $bbaacc$ are in the language but $b$ and $ccaab$ are not."
   ]
  },
  {
   "cell_type": "code",
   "execution_count": 7,
   "id": "c713ea4a",
   "metadata": {},
   "outputs": [],
   "source": [
    "fsa_a = gtn.Graph()\n",
    "fsa_a.add_node(start=True)\n",
    "fsa_a.add_node(accept=True)\n",
    "fsa_a.add_arc(src_node=0, dst_node=1, label=0)\n",
    "\n",
    "fsa_b = gtn.Graph()\n",
    "fsa_b.add_node(start=True)\n",
    "fsa_b.add_node(accept=True)\n",
    "fsa_b.add_arc(src_node=0, dst_node=1, label=1)\n",
    "\n",
    "fsa_c = gtn.Graph()\n",
    "fsa_c.add_node(start=True)\n",
    "fsa_c.add_node(accept=True)\n",
    "fsa_c.add_arc(src_node=0, dst_node=1, label=2)\n",
    "\n",
    "gtn.draw(fsa_a, \"figures/fsa_a.svg\", isymbols=symbols)\n",
    "gtn.draw(fsa_b, \"figures/fsa_b.svg\", isymbols=symbols)\n",
    "gtn.draw(fsa_c, \"figures/fsa_c.svg\", isymbols=symbols)"
   ]
  },
  {
   "cell_type": "markdown",
   "id": "8430f9dc",
   "metadata": {},
   "source": [
    "<div class=\"figure\">\n",
    "  <div class=\"img\" style=\"min-width:180px;width:200px;\">\n",
    "    <img src=\"figures/fsa_a.svg\"/>\n",
    "  </div>\n",
    "  <div class=\"img\" style=\"min-width:180px;width:200px;\">\n",
    "    <img src=\"figures/fsa_b.svg\"/> \n",
    "  </div>\n",
    "  <div class=\"img\" style=\"min-width:180px;width:200px;\">\n",
    "    <img src=\"figures/fsa_c.svg\"/>\n",
    "  </div>\n",
    "  <div class=\"caption\" markdown=\"span\" style=\"text-align:center;\">\n",
    "     The three individual automata with languages $\\{a\\}$, $\\{b\\}$, and $\\{c\\}$ from left to right, respectively.\n",
    "  </div>\n",
    "</div>"
   ]
  },
  {
   "cell_type": "code",
   "execution_count": 6,
   "id": "060808bd",
   "metadata": {},
   "outputs": [],
   "source": [
    "aa = gtn.concat([fsa_a, fsa_a])\n",
    "bb = gtn.concat([fsa_b, fsa_b])\n",
    "cc = gtn.concat([fsa_c, fsa_c])\n",
    "\n",
    "fsa_repeats = gtn.closure(gtn.union([aa, bb, cc]))\n",
    "\n",
    "gtn.draw(fsa_repeats, \"figures/fsa_repeats.svg\", isymbols=symbols)"
   ]
  },
  {
   "cell_type": "markdown",
   "id": "e14ebf53",
   "metadata": {},
   "source": [
    "First concatenate the individual graphs with themselves to get graphs which recognize $aa$, $bb$, and $cc$. Then take the union of the three concatenated graphs followed by the closure. The resulting graph is shown below. The equation to compute the desired graph is $\\gA = (\\gA_a\\gA_a + \\gA_b\\gA_b + \\gA_c\\gA_c)^*$.\n",
    "\n",
    "<div class=\"figure\">\n",
    "  <div class=\"img\">\n",
    "    <img src=\"figures/fsa_repeats.svg\"/>\n",
    "  </div>\n",
    "  <div class=\"caption\" markdown=\"span\">\n",
    "     The even numbered repeats graph constructed from the individual token graphs using the operations $\\gA = (\\gA_a\\gA_a + \\gA_b\\gA_b + \\gA_c\\gA_c)^*$.\n",
    "  </div>\n",
    "</div>\n",
    "\n",
    "---"
   ]
  }
 ],
 "metadata": {
  "kernelspec": {
   "display_name": "Python 3",
   "language": "python",
   "name": "python3"
  },
  "language_info": {
   "codemirror_mode": {
    "name": "ipython",
    "version": 3
   },
   "file_extension": ".py",
   "mimetype": "text/x-python",
   "name": "python",
   "nbconvert_exporter": "python",
   "pygments_lexer": "ipython3",
   "version": "3.8.8"
  }
 },
 "nbformat": 4,
 "nbformat_minor": 5
}
