{
 "cells": [
  {
   "cell_type": "markdown",
   "id": "c7249708",
   "metadata": {},
   "source": [
    "# Basic Operations"
   ]
  },
  {
   "cell_type": "code",
   "execution_count": 19,
   "id": "80c75463",
   "metadata": {},
   "outputs": [
    {
     "data": {
      "text/html": [
       "\n",
       "        <style>\n",
       "             .container { width:900px !important; }\n",
       "             .figure {display:table; margin:auto;}\n",
       "             .img {float: left; margin: 10px;}\n",
       "             .caption {display:table-caption;caption-side:bottom;text-align:justify;color: rgba(0,0,0,0.6);}\n",
       "             td { background: white;}\n",
       "            .table_caption {\n",
       "                font-size:14px;\n",
       "                float: left;\n",
       "                text-align: justify;\n",
       "                color: rgba(0,0,0,0.6);\n",
       "            }\n",
       "        </style>\n",
       "        "
      ],
      "text/plain": [
       "<IPython.core.display.HTML object>"
      ]
     },
     "metadata": {},
     "output_type": "display_data"
    }
   ],
   "source": [
    "import gtn\n",
    "import nb_utils\n",
    "nb_utils.init()"
   ]
  },
  {
   "cell_type": "markdown",
   "id": "74d38df9",
   "metadata": {},
   "source": [
    "An operation on a transducer (or acceptor) takes one or more transducers as input and outputs a transducer. You can think of these operations as functions on graphs. We'll typically denote graphs by upper case variables, so the variable $A$ for example can represent a graph. Functions will be denoted by lower case variables. So $f(A)$ is a function which takes as input a single graph and outputs a graph."
   ]
  },
  {
   "cell_type": "markdown",
   "id": "c2b7748f",
   "metadata": {},
   "source": [
    "## Closure\n",
    "\n",
    "The closure, sometimes called the Kleene star, is a unary function (takes a single input) which can operate on either an acceptor or transducer. If the string $x$ is accepted by $A$, then the zero or more copies of $x$ are accepted by the closure of $A$. More formally, if the language of an acceptor is $\\mathcal{L}(A)$, then the language of the closure of $A$ is $\\{x^n \\mid x \\in \\mathcal{L}(A),\\;\\; n = 0, 1, \\ldots, \\}$. The notation $x^n$ means $x$ concatenated $n$ times. So $x^2$ is $xx$ and $x^0$ is the empty string. Usually the closure of an acceptor is denoted by $^*$, as in $A^*$. This is the same notation used in regular expressions."
   ]
  },
  {
   "cell_type": "code",
   "execution_count": 20,
   "id": "0d2deb8a",
   "metadata": {},
   "outputs": [],
   "source": [
    "# Define the mapping from integer ids to arc symbol labels\n",
    "symbols = {0: 'a', 1: 'b', 2: 'c'}\n",
    "\n",
    "fsa = gtn.Graph()\n",
    "fsa.add_node(start=True)\n",
    "fsa.add_node()\n",
    "fsa.add_node()\n",
    "fsa.add_node(accept=True)\n",
    "fsa.add_arc(src_node=0, dst_node=1, label=0)\n",
    "fsa.add_arc(src_node=1, dst_node=2, label=1)\n",
    "fsa.add_arc(src_node=2, dst_node=3, label=0)\n",
    "\n",
    "gtn.draw(fsa, \"figures/nb/fsa_pre_closure.svg\", isymbols=symbols)"
   ]
  },
  {
   "cell_type": "markdown",
   "id": "f161f3d8",
   "metadata": {},
   "source": [
    "The closure of a graph is easy to construct with the use of $\\epsilon$ transitions. The language of the graph below is the string $aba$. \n",
    "\n",
    "![fsa pre closure](figures/nb/fsa_pre_closure.svg)\n",
    "\n",
    "The closure of the graph needs to accept an arbitrary number of copies of $aba$ including the empty string. To accept the empty string we make the start state an accept state as well. To accept one or more copies of $aba$ we simply wire up the old accept states to the new start state with $\\epsilon$ transitions."
   ]
  },
  {
   "cell_type": "code",
   "execution_count": 21,
   "id": "1ddd3133",
   "metadata": {},
   "outputs": [],
   "source": [
    "# Recreate the old graph but without any start states\n",
    "fsa = gtn.Graph()\n",
    "old_start = fsa.add_node()\n",
    "fsa.add_node()\n",
    "fsa.add_node()\n",
    "accept = fsa.add_node(accept=True)\n",
    "fsa.add_arc(src_node=0, dst_node=1, label=0)\n",
    "fsa.add_arc(src_node=1, dst_node=2, label=1)\n",
    "fsa.add_arc(src_node=2, dst_node=3, label=0)\n",
    "\n",
    "# New start state which is also an accept state\n",
    "start = fsa.add_node(start=True, accept=True)\n",
    "\n",
    "# Connect the new start state to the old start states with an ϵ transition\n",
    "fsa.add_arc(src_node=start, dst_node=old_start, label=gtn.epsilon)\n",
    "\n",
    "# Connect the accept states to the new start state with an ϵ transition\n",
    "fsa.add_arc(src_node=accept, dst_node=start, label=gtn.epsilon)\n",
    "\n",
    "gtn.draw(fsa, \"figures/nb/fsa_closure.svg\", isymbols=symbols)"
   ]
  },
  {
   "cell_type": "markdown",
   "id": "ea426415",
   "metadata": {},
   "source": [
    "The closed graph is shown below.\n",
    "\n",
    "![fsa closure](figures/nb/fsa_closure.svg)\n",
    "\n",
    "---\n",
    "### Example\n",
    "\n",
    "You might think that the state $4$ in the above graph is superflouous. Consider an alternate construction for computing the closure of a graph. We could have made the state $0$ into an accept state and connected state $3$ to state $0$ with an $\\epsilon$ transition."
   ]
  },
  {
   "cell_type": "code",
   "execution_count": 5,
   "id": "9e05e9a0",
   "metadata": {},
   "outputs": [],
   "source": [
    "fsa = gtn.Graph()\n",
    "\n",
    "# Make the start state also an accept state\n",
    "start = fsa.add_node(start=True, accept=True)\n",
    "fsa.add_node()\n",
    "fsa.add_node()\n",
    "accept = fsa.add_node(accept=True)\n",
    "fsa.add_arc(src_node=0, dst_node=1, label=0)\n",
    "fsa.add_arc(src_node=1, dst_node=2, label=1)\n",
    "fsa.add_arc(src_node=2, dst_node=3, label=0)\n",
    "\n",
    "# Connect the accept states to the start state with an ϵ transition\n",
    "fsa.add_arc(src_node=accept, dst_node=start, label=gtn.epsilon)\n",
    "\n",
    "gtn.draw(fsa, \"figures/nb/fsa_closure_2.svg\", isymbols=symbols)"
   ]
  },
  {
   "cell_type": "markdown",
   "id": "4b07c7bc",
   "metadata": {},
   "source": [
    "This alternate construction would result in the graph below.\n",
    "\n",
    "![fsa closure 2](figures/nb/fsa_closure_2.svg)\n",
    "\n",
    "This would work and require fewer states and arcs. In the general case, this construction turns every start state into an accept state instead of adding a new start state. Give an example where this doesn't work? In other words, give an example where the graph from this modified construction is not the closure of the original graph."
   ]
  },
  {
   "cell_type": "code",
   "execution_count": 6,
   "id": "03dca44c",
   "metadata": {},
   "outputs": [],
   "source": [
    "fsa = gtn.Graph()\n",
    "fsa.add_node(start=True)\n",
    "fsa.add_node(accept=True)\n",
    "fsa.add_arc(src_node=0, dst_node=0, label=0)\n",
    "fsa.add_arc(src_node=0, dst_node=1, label=1)\n",
    "\n",
    "gtn.draw(fsa, \"figures/nb/fsa_pre_closure_wrong.svg\", isymbols=symbols)"
   ]
  },
  {
   "cell_type": "markdown",
   "id": "24351dcc",
   "metadata": {},
   "source": [
    "![fsa pre closure wrong](figures/nb/fsa_pre_closure_wrong.svg)\n",
    "\n",
    "The language of the above graph is $ab$ and the closure is $(ab)^*$."
   ]
  },
  {
   "cell_type": "code",
   "execution_count": 7,
   "id": "c979a6b6",
   "metadata": {},
   "outputs": [],
   "source": [
    "# The modified (and incorrect) construction for the closure\n",
    "fsa = gtn.Graph()\n",
    "fsa.add_node(start=True, accept=True)\n",
    "fsa.add_node(accept=True)\n",
    "fsa.add_arc(src_node=0, dst_node=0, label=0)\n",
    "fsa.add_arc(src_node=0, dst_node=1, label=1)\n",
    "fsa.add_arc(src_node=1, dst_node=0, label=gtn.epsilon)\n",
    "\n",
    "gtn.draw(fsa, \"figures/nb/fsa_closure_wrong.svg\", isymbols=symbols)"
   ]
  },
  {
   "cell_type": "markdown",
   "id": "460ae383",
   "metadata": {},
   "source": [
    "If we follow the modified construction for the closure, as in the graph below, then the language would incorrectly include the set of strings $a^*$.\n",
    "\n",
    "![fsa closure wrong](figures/nb/fsa_closure_2.svg)"
   ]
  },
  {
   "cell_type": "code",
   "execution_count": 8,
   "id": "16293a13",
   "metadata": {},
   "outputs": [],
   "source": [
    "# The correct construction for the closure\n",
    "fsa = gtn.Graph()\n",
    "fsa.add_node()\n",
    "fsa.add_node(accept=True)\n",
    "fsa.add_node(start=True, accept=True)\n",
    "fsa.add_arc(src_node=0, dst_node=0, label=0)\n",
    "fsa.add_arc(src_node=0, dst_node=1, label=1)\n",
    "fsa.add_arc(src_node=2, dst_node=0, label=gtn.epsilon)\n",
    "fsa.add_arc(src_node=1, dst_node=2, label=gtn.epsilon)\n",
    "\n",
    "gtn.draw(fsa, \"figures/nb/fsa_closure_right.svg\", isymbols=symbols)"
   ]
  },
  {
   "cell_type": "markdown",
   "id": "fe98ffd6",
   "metadata": {},
   "source": [
    "The graph following the correct construction of the closure is shown below.\n",
    "\n",
    "![fsa closure right](figures/nb/fsa_closure_right.svg)\n",
    "\n",
    "---\n",
    "\n",
    "## Union\n",
    "\n",
    "The union takes as input two or more graphs and produces a new graph. The language of the resultant graph is the union of the languages of the input graphs. More formally let $A_1, \\ldots, A_n$ be $n$ graphs. The language of the union graph is given by $\\{ x \\mid x \\in A_i \\textrm{ for some } i = 1, \\ldots, n \\}$."
   ]
  },
  {
   "cell_type": "code",
   "execution_count": 9,
   "id": "38314ca2",
   "metadata": {},
   "outputs": [],
   "source": [
    "# A graph which recognizes \"aba*\"\n",
    "g1 = gtn.Graph()\n",
    "g1.add_node(start=True)\n",
    "g1.add_node()\n",
    "g1.add_node(accept=True)\n",
    "g1.add_arc(src_node=0, dst_node=1, label=0)\n",
    "g1.add_arc(src_node=1, dst_node=2, label=1)\n",
    "g1.add_arc(src_node=2, dst_node=2, label=0)\n",
    "\n",
    "# A graph which recognizes \"ba\"\n",
    "g2 = gtn.Graph()\n",
    "g2.add_node(start=True)\n",
    "g2.add_node()\n",
    "g2.add_node(accept=True)\n",
    "g2.add_arc(src_node=0, dst_node=1, label=1)\n",
    "g2.add_arc(src_node=1, dst_node=2, label=0)\n",
    "\n",
    "# A graph which recognizes \"ac\"\n",
    "g3 = gtn.Graph()\n",
    "g3.add_node(start=True)\n",
    "g3.add_node()\n",
    "g3.add_node(accept=True)\n",
    "g3.add_arc(src_node=0, dst_node=1, label=0)\n",
    "g3.add_arc(src_node=1, dst_node=2, label=2)\n",
    "\n",
    "gtn.draw(g1, \"figures/nb/union_1.svg\", isymbols=symbols)\n",
    "gtn.draw(g2, \"figures/nb/union_2.svg\", isymbols=symbols)\n",
    "gtn.draw(g3, \"figures/nb/union_3.svg\", isymbols=symbols)"
   ]
  },
  {
   "cell_type": "markdown",
   "id": "01ed5cd6",
   "metadata": {},
   "source": [
    "Since we let a graph have multiple start states and multiple accept states, the union is especially easy to construct. A state in the union graph is a start state if it was a start state in the original graph. A state in the union graph is an accept state if it was an accept state in the original graph.\n",
    "\n",
    "Consider the three graphs below with languages $\\{ab, aba, abaa, \\ldots\\}$, $\\{ba\\}$, and $\\{ac\\}$ respectively.\n",
    "\n",
    "![union 1](figures/nb/union_1.svg)\n",
    "![union 2](figures/nb/union_2.svg)\n",
    "![union 3](figures/nb/union_3.svg)"
   ]
  },
  {
   "cell_type": "code",
   "execution_count": 10,
   "id": "af258d06",
   "metadata": {},
   "outputs": [],
   "source": [
    "fsa = gtn.union([g1, g2, g3])\n",
    "gtn.draw(fsa, \"figures/nb/union.svg\", isymbols=symbols)"
   ]
  },
  {
   "cell_type": "markdown",
   "id": "01d6ae45",
   "metadata": {},
   "source": [
    "Notice in the union graph below the only visual distinction from the individual graphs is that the states are numbered consecutively from $0$ to $8$ indicating a single graph with nine states instead of three individual graphs. The language of the union graph below is $\\{ba\\} \\cup \\{ac\\} \\cup \\{ab, aba, abaa, \\ldots\\}$.\n",
    "\n",
    "![fsa union](figures/nb/union.svg)\n",
    "\n",
    "## Concatenation\n",
    "\n",
    "Like union, concatenation produces a new graph given two or more graphs as input. The language of the concatenated graph is the set of strings which can be formed by any concatenation of strings from the individual graph. Concatenation is not commutative, the order of the input graphs matters. More formally the language of the concatenated graph is given by $\\{x_1 \\ldots x_n \\mid x_1 \\in \\mathcal{L}(A_1), \\ldots, x_n \\in \\mathcal{L}(A_n)\\}$"
   ]
  },
  {
   "cell_type": "code",
   "execution_count": 11,
   "id": "7a4bc3bf",
   "metadata": {},
   "outputs": [],
   "source": [
    "# The graph which recognizes \"ba\"\n",
    "g1 = gtn.Graph()\n",
    "g1.add_node(start=True)\n",
    "g1.add_node()\n",
    "g1.add_node(accept=True)\n",
    "g1.add_arc(src_node=0, dst_node=1, label=1)\n",
    "g1.add_arc(src_node=1, dst_node=2, label=0)\n",
    "\n",
    "# The graph which recognizes \"ac\" and \"bc\"\n",
    "g2 = gtn.Graph()\n",
    "g2.add_node(start=True)\n",
    "g2.add_node()\n",
    "g2.add_node()\n",
    "g2.add_node(accept=True)\n",
    "g2.add_arc(src_node=0, dst_node=1, label=0)\n",
    "g2.add_arc(src_node=1, dst_node=3, label=2)\n",
    "g2.add_arc(src_node=0, dst_node=2, label=1)\n",
    "g2.add_arc(src_node=2, dst_node=3, label=2)\n",
    "\n",
    "gtn.draw(g1, \"figures/nb/concat_1.svg\", isymbols=symbols)\n",
    "gtn.draw(g2, \"figures/nb/concat_2.svg\", isymbols=symbols)"
   ]
  },
  {
   "cell_type": "markdown",
   "id": "e7551a27",
   "metadata": {},
   "source": [
    "The concatenated graph can be constructed from the original input graphs by wiring start states to accept states. Assume we are concatenating $A_1, \\ldots, A_n$. The start states of the concatendated graph are the start states of the first graph, $A_1$. The accept states of the concatendated graph are the accept states of $A_n$. For any two graph $A_i$ and $A_{i+1}$, we connect each start state of $A_i$ to each accept state of $A_{i+1}$ with an $\\epsilon$ transition.\n",
    "\n",
    "![fsa concat 1](figures/nb/concat_1.svg)\n",
    "![fsa concat 2](figures/nb/concat_2.svg)\n",
    "\n",
    "As an example, consider the two graphs above."
   ]
  },
  {
   "cell_type": "code",
   "execution_count": 12,
   "id": "662f1341",
   "metadata": {},
   "outputs": [],
   "source": [
    "fsa = gtn.concat([g1, g2])\n",
    "gtn.draw(fsa, \"figures/nb/concat.svg\", isymbols=symbols)"
   ]
  },
  {
   "cell_type": "markdown",
   "id": "1556d6d0",
   "metadata": {},
   "source": [
    "The concatenated graph is below and has a language $\\{baac, babc\\}$.\n",
    "\n",
    "![fsa concat](figures/nb/concat.svg)\n",
    "\n",
    "---\n",
    "\n",
    "### Example\n",
    "\n",
    "What is the identity graph for the concatenation function? The identity in a binary operation is the value which when used in the operation leaves the secon input unchanged. In multiplication this would be $1$ since $c * 1 = c$ for any real value $c$.\n",
    "\n",
    "What is the equivalent of the annihilator graph in the concatenation function? The annihilator in a binary operation is the value such that the operation with the annihilator always returns the annihilator. For multiplication $0$ is the annihilator since $0*c = 0$ for any real value $c$.\n",
    "\n",
    "The graph which accepts the empty string is the identity. The graph which does not accept any strings is the annihilator. See the figures below for an example of these two graphs."
   ]
  },
  {
   "cell_type": "code",
   "execution_count": 13,
   "id": "7cc4dd7f",
   "metadata": {},
   "outputs": [],
   "source": [
    "# The graph which accepts the empty string\n",
    "fsa = gtn.Graph()\n",
    "fsa.add_node(start=True, accept=True)\n",
    "gtn.draw(fsa, \"figures/nb/concat_identity.svg\", isymbols=symbols)"
   ]
  },
  {
   "cell_type": "code",
   "execution_count": 14,
   "id": "51f8abd4",
   "metadata": {},
   "outputs": [],
   "source": [
    "# The graph which does not accept any strings\n",
    "fsa = gtn.Graph()\n",
    "fsa.add_node(start=True, accept=False)\n",
    "gtn.draw(fsa, \"figures/nb/concat_annihilator.svg\", isymbols=symbols)"
   ]
  },
  {
   "cell_type": "markdown",
   "id": "812c5984",
   "metadata": {},
   "source": [
    "The identity graph is a single node which is both a start and accept state. The language of the identiy graph is the empty string.\n",
    "\n",
    "![concat identity](figures/nb/concat_identity.svg)\n",
    "\n",
    "The annihilator graph is a single non accepting state. The language of the annihilator graph is the empty set.\n",
    "\n",
    "![concat annihilator](figures/nb/concat_annihilator.svg)\n",
    "\n",
    "Note the subtle distinction between the language that contains the empty string and the language that is the empty set. The former can be written as $\\{\\epsilon\\}$ whereas the latter would be $\\{\\}$ (also commonly denoted by $\\varnothing$).\n",
    "\n",
    "---\n",
    "\n",
    "### Example\n",
    "\n",
    "Construct the concatenation of the two graphs below."
   ]
  },
  {
   "cell_type": "code",
   "execution_count": 15,
   "id": "359b2244",
   "metadata": {},
   "outputs": [],
   "source": [
    "g1 = gtn.Graph()\n",
    "g1.add_node(start=True)\n",
    "g1.add_node()\n",
    "g1.add_node(accept=True)\n",
    "g1.add_node(accept=True)\n",
    "g1.add_arc(src_node=0, dst_node=1, label=1)\n",
    "g1.add_arc(src_node=1, dst_node=2, label=0)\n",
    "g1.add_arc(src_node=1, dst_node=3, label=2)\n",
    "\n",
    "g2 = gtn.Graph()\n",
    "g2.add_node(start=True)\n",
    "g2.add_node(start=True)\n",
    "g2.add_node(accept=True)\n",
    "g2.add_arc(src_node=0, dst_node=2, label=0)\n",
    "g2.add_arc(src_node=1, dst_node=2, label=2)\n",
    "\n",
    "gtn.draw(g1, \"figures/nb/concat_example_1.svg\", isymbols=symbols)\n",
    "gtn.draw(g2, \"figures/nb/concat_example_2.svg\", isymbols=symbols)"
   ]
  },
  {
   "cell_type": "markdown",
   "id": "9840ddb8",
   "metadata": {},
   "source": [
    "The two input graphs are below.\n",
    "\n",
    "![concat ex 1](figures/nb/concat_example_1.svg)\n",
    "![concat ex 2](figures/nb/concat_example_2.svg)\n"
   ]
  },
  {
   "cell_type": "code",
   "execution_count": 16,
   "id": "da3ec314",
   "metadata": {},
   "outputs": [],
   "source": [
    "gtn.draw(gtn.concat([g1, g2]), \"figures/nb/concat_example.svg\", isymbols=symbols)"
   ]
  },
  {
   "cell_type": "markdown",
   "id": "c950cc38",
   "metadata": {},
   "source": [
    "The concatenated graph is shown below.\n",
    "\n",
    "![concat ex](figures/nb/concat_example.svg)\n",
    "\n",
    "---\n",
    "\n",
    "### Example\n",
    "\n",
    "Suppose we have a list of graphs to concatenat $A_1, \\ldots, A_n$ where the $i$-th graph has $s_i$ start states and $a_i$ accept states. How many new arcs will the concatenated graph require?\n",
    "\n",
    "For each consecutive pair of graphs $A_i$ and $A_{i+1}$, we need to add $a_i * s_{i+1}$ connecting arcs in the concatenated graph. So the total number of additional arcs is:\n",
    "\n",
    "$$\\sum_{i=1}^{n-1} a_i * s_{i+1}$$.\n",
    "\n",
    "---\n",
    "\n",
    "## Summary\n",
    "\n",
    "We've seen three basic operations so far:\n",
    "\n",
    "- **closure**: The closed graph accepts any string in the input graph repeated zero or more times.\n",
    "- **union**: The union graph accepts any string from any of the input graphs.\n",
    "- **concatenation**: The concatenated graph accepts any string which can be formed by concatenating strings (repsecting order) from the input graphs.\n",
    "\n",
    "---\n",
    "\n",
    "### Example\n",
    "\n",
    "Assume you are given the following individual graphs which recognizer $a$, $b$, and $c$ respectively."
   ]
  },
  {
   "cell_type": "code",
   "execution_count": 17,
   "id": "c713ea4a",
   "metadata": {},
   "outputs": [],
   "source": [
    "fsa_a = gtn.Graph()\n",
    "fsa_a.add_node(start=True)\n",
    "fsa_a.add_node(accept=True)\n",
    "fsa_a.add_arc(src_node=0, dst_node=1, label=0)\n",
    "\n",
    "fsa_b = gtn.Graph()\n",
    "fsa_b.add_node(start=True)\n",
    "fsa_b.add_node(accept=True)\n",
    "fsa_b.add_arc(src_node=0, dst_node=1, label=1)\n",
    "\n",
    "fsa_c = gtn.Graph()\n",
    "fsa_c.add_node(start=True)\n",
    "fsa_c.add_node(accept=True)\n",
    "fsa_c.add_arc(src_node=0, dst_node=1, label=2)\n",
    "\n",
    "gtn.draw(fsa_a, \"figures/nb/fsa_a.svg\", isymbols=symbols)\n",
    "gtn.draw(fsa_b, \"figures/nb/fsa_b.svg\", isymbols=symbols)\n",
    "gtn.draw(fsa_c, \"figures/nb/fsa_c.svg\", isymbols=symbols)"
   ]
  },
  {
   "cell_type": "markdown",
   "id": "8430f9dc",
   "metadata": {},
   "source": [
    "<div class=\"figure\">\n",
    "  <div class=\"img\">\n",
    "    <img src=\"figures/nb/fsa_a.svg\"/>\n",
    "  </div>\n",
    "  <div class=\"img\">\n",
    "    <img src=\"figures/nb/fsa_b.svg\"/> \n",
    "  </div>\n",
    "  <div class=\"img\">\n",
    "    <img src=\"figures/nb/fsa_c.svg\"/>\n",
    "  </div>\n",
    "  <div class=\"caption\" markdown=\"span\">\n",
    "     The three individual automata with languages $\\{a\\}$, $\\{b\\}$, and $\\{c\\}$ respectively.\n",
    "  </div>\n",
    "</div>\n",
    "\n",
    "Using only the closure, union, and concatenation operations, construct the graph which recognizes any number of repeats of the strings $aa$, $bb$, and $cc$. For example $aabb$ and $bbaacc$ are in the language but $b$ and $ccaab$ are not."
   ]
  },
  {
   "cell_type": "code",
   "execution_count": 18,
   "id": "060808bd",
   "metadata": {},
   "outputs": [],
   "source": [
    "aa = gtn.concat([fsa_a, fsa_a])\n",
    "bb = gtn.concat([fsa_b, fsa_b])\n",
    "cc = gtn.concat([fsa_c, fsa_c])\n",
    "\n",
    "fsa_repeats = gtn.closure(gtn.union([aa, bb, cc]))\n",
    "\n",
    "gtn.draw(fsa_repeats, \"figures/nb/fsa_repeats.svg\", isymbols=symbols)"
   ]
  },
  {
   "cell_type": "markdown",
   "id": "e14ebf53",
   "metadata": {},
   "source": [
    "First concatenate the individual graphs with themselves to get graphs which recognize $aa$, $bb$, and $cc$. Then take the union of the three concatenated graphs followed by the closure. The resulting graph is shown below.\n",
    "\n",
    "<img src=\"figures/nb/fsa_repeats.svg\"/>`\n",
    "\n",
    "---"
   ]
  }
 ],
 "metadata": {
  "kernelspec": {
   "display_name": "Python 3",
   "language": "python",
   "name": "python3"
  },
  "language_info": {
   "codemirror_mode": {
    "name": "ipython",
    "version": 3
   },
   "file_extension": ".py",
   "mimetype": "text/x-python",
   "name": "python",
   "nbconvert_exporter": "python",
   "pygments_lexer": "ipython3",
   "version": "3.8.8"
  }
 },
 "nbformat": 4,
 "nbformat_minor": 5
}
